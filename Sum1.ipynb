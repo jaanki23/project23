{
  "nbformat": 4,
  "nbformat_minor": 0,
  "metadata": {
    "colab": {
      "provenance": [],
      "authorship_tag": "ABX9TyPk4bghs9/O14lhEwBZ+PFf",
      "include_colab_link": true
    },
    "kernelspec": {
      "name": "python3",
      "display_name": "Python 3"
    },
    "language_info": {
      "name": "python"
    }
  },
  "cells": [
    {
      "cell_type": "markdown",
      "metadata": {
        "id": "view-in-github",
        "colab_type": "text"
      },
      "source": [
        "<a href=\"https://colab.research.google.com/github/jaanki23/project23/blob/main/Sum1.ipynb\" target=\"_parent\"><img src=\"https://colab.research.google.com/assets/colab-badge.svg\" alt=\"Open In Colab\"/></a>"
      ]
    },
    {
      "cell_type": "code",
      "execution_count": 5,
      "metadata": {
        "colab": {
          "base_uri": "https://localhost:8080/"
        },
        "id": "7eFwPMKk9zux",
        "outputId": "04032579-c526-4da9-d4a6-99b86f80b052"
      },
      "outputs": [
        {
          "output_type": "stream",
          "name": "stdout",
          "text": [
            "Enter The Value of a12\n",
            "Enter The Value of b23\n",
            "sum= 35\n"
          ]
        }
      ],
      "source": [
        "a=int(input(\"Enter The Value of a\"))\n",
        "b=int(input(\"Enter The Value of b\"))\n",
        "c=a+b\n",
        "print(\"sum=\",c)\n",
        "\n"
      ]
    },
    {
      "cell_type": "markdown",
      "source": [
        "# New Section"
      ],
      "metadata": {
        "id": "hJY1daXR_WRt"
      }
    }
  ]
}